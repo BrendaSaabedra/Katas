{
 "cells": [
  {
   "cell_type": "markdown",
   "metadata": {},
   "source": [
    "## Ejercicio - Escribir declaraciones if, else, y elif"
   ]
  },
  {
   "cell_type": "code",
   "execution_count": 1,
   "metadata": {},
   "outputs": [
    {
     "name": "stdout",
     "output_type": "stream",
     "text": [
      "Un asteroide se acerca a la Tierra demasiado rápido\n"
     ]
    }
   ],
   "source": [
    "velocidad = 49\n",
    "if velocidad > 25:\n",
    "    print(\"Un asteroide se acerca a la Tierra demasiado rápido\")"
   ]
  },
  {
   "cell_type": "code",
   "execution_count": 10,
   "metadata": {},
   "outputs": [
    {
     "name": "stdout",
     "output_type": "stream",
     "text": [
      "No hay de que preocuparse\n"
     ]
    }
   ],
   "source": [
    "velocidad = 19\n",
    "if velocidad > 25:\n",
    "    print(\"Se acerca un asteroide a la Tierra\")\n",
    "elif velocidad >= 20:\n",
    "    print(\"Buscar un rayo de luz en el cielo\")\n",
    "else:\n",
    "    print(\"No hay de que preocuparse\")"
   ]
  },
  {
   "cell_type": "markdown",
   "metadata": {},
   "source": [
    "## Ejercicio: Uso de operadores and y or"
   ]
  },
  {
   "cell_type": "code",
   "execution_count": 11,
   "metadata": {},
   "outputs": [
    {
     "name": "stdout",
     "output_type": "stream",
     "text": [
      "No hay de que preocuparse\n"
     ]
    }
   ],
   "source": [
    "dimension = 25\n",
    "velocidad = 25\n",
    "if velocidad >= 20 and velocidad > 25:\n",
    "    print(\"Se debe buscar un asteroide en el cielo\")\n",
    "elif dimension > 25 or dimension < 1000:\n",
    "    print(\"Un asteroide golpeará la Tierra, causará mucho daño\")\n",
    "else:\n",
    "    print(\"No hay de que preocuparse\")"
   ]
  }
 ],
 "metadata": {
  "interpreter": {
   "hash": "7d8bf0327ac0f885d473cb65de4e34c44b89c87b92d77471727a72108c128b15"
  },
  "kernelspec": {
   "display_name": "Python 3.10.2 64-bit",
   "language": "python",
   "name": "python3"
  },
  "language_info": {
   "codemirror_mode": {
    "name": "ipython",
    "version": 3
   },
   "file_extension": ".py",
   "mimetype": "text/x-python",
   "name": "python",
   "nbconvert_exporter": "python",
   "pygments_lexer": "ipython3",
   "version": "3.10.2"
  },
  "orig_nbformat": 4
 },
 "nbformat": 4,
 "nbformat_minor": 2
}
